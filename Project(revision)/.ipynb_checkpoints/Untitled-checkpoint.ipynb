{
 "cells": [
  {
   "cell_type": "markdown",
   "id": "96a4b8f1-1c19-4141-b902-dab2da436ec8",
   "metadata": {},
   "source": [
    "### if elif else conditional statement"
   ]
  },
  {
   "cell_type": "markdown",
   "id": "272f1fdc-9a00-49a6-9fbd-037971ad88aa",
   "metadata": {
    "tags": []
   },
   "source": [
    "##### Write a set of conditional statements to find whether a no is \"special\" number \n",
    " Special numbers are defined as number less than 100 or greater or equal to 300\n",
    " that are perfectly divisible by 3, 7, or both\n",
    " print out \"divisible by both\" if special number is divisible by both 3 & 7\n",
    " print out \"divisible by 3\" if special number is divisible by 3, but not 7\n",
    " print out \"divisible by 7\" if special number is divisible by 3, but not 3\n",
    "print out \"not a special number\" otherwise?"
   ]
  },
  {
   "cell_type": "code",
   "execution_count": 1,
   "id": "030c6904-16f5-4682-8bd5-a21e47e24360",
   "metadata": {},
   "outputs": [
    {
     "name": "stdin",
     "output_type": "stream",
     "text": [
      "Please enter the number:  333\n"
     ]
    },
    {
     "name": "stdout",
     "output_type": "stream",
     "text": [
      "Divisbile by 3\n"
     ]
    }
   ],
   "source": [
    "num = int(input(\"Please enter the number: \"))\n",
    "if num < 100 or num >=300:\n",
    "    if num%3 == 0 and num%7 ==0:\n",
    "        print(\"Dividible by both 3 and 7\")\n",
    "    elif num%3 == 0 or num%7 ==0:\n",
    "        if num%3 == 0:\n",
    "            print(\"Divisbile by 3\")\n",
    "        else:\n",
    "            print(\"divisible by 7\")\n",
    "    else:\n",
    "        print(\"Not a special number\")\n"
   ]
  },
  {
   "cell_type": "markdown",
   "id": "45ae9b50-6f55-4f34-a5fd-ed50ecb18a09",
   "metadata": {},
   "source": [
    "### Functions"
   ]
  },
  {
   "cell_type": "code",
   "execution_count": 2,
   "id": "333b15ea-fd9c-4eb6-985b-12082585783d",
   "metadata": {},
   "outputs": [],
   "source": [
    "# basic syntex with example 1\n",
    "\n",
    "def spam():\n",
    "    print(\"win Rs 1 lakh\")"
   ]
  },
  {
   "cell_type": "code",
   "execution_count": 3,
   "id": "2190edf1-50e3-4041-9281-061c0fae4896",
   "metadata": {},
   "outputs": [
    {
     "name": "stdout",
     "output_type": "stream",
     "text": [
      "win Rs 1 lakh\n",
      "win Rs 1 lakh\n",
      "win Rs 1 lakh\n",
      "win Rs 1 lakh\n"
     ]
    }
   ],
   "source": [
    "spam()\n",
    "spam()\n",
    "spam()\n",
    "spam()\n"
   ]
  },
  {
   "cell_type": "code",
   "execution_count": 4,
   "id": "05f146dd-3bda-4020-b912-48fd60490074",
   "metadata": {},
   "outputs": [],
   "source": [
    "# example 2\n",
    "def squareNumber(x):\n",
    "    return(x**2)\n",
    "    "
   ]
  },
  {
   "cell_type": "code",
   "execution_count": 5,
   "id": "f224ce84-d4bd-4889-979a-5a39ab55dbd0",
   "metadata": {},
   "outputs": [],
   "source": [
    "a = squareNumber(4)"
   ]
  },
  {
   "cell_type": "code",
   "execution_count": 6,
   "id": "cccdb738-5138-478a-a73b-4c97edc63033",
   "metadata": {},
   "outputs": [
    {
     "name": "stdout",
     "output_type": "stream",
     "text": [
      "16\n"
     ]
    }
   ],
   "source": [
    "print(a)"
   ]
  },
  {
   "cell_type": "markdown",
   "id": "f71174c8-705d-40e3-b9ca-27d35ec4e5d4",
   "metadata": {},
   "source": [
    "##### write a function to take three number and add them?"
   ]
  },
  {
   "cell_type": "code",
   "execution_count": 7,
   "id": "f80056a9-eaf3-45f7-a7dd-302efd6bf178",
   "metadata": {},
   "outputs": [],
   "source": [
    "def addThreeNumber(a, b, c):\n",
    "    return(a+b+c)"
   ]
  },
  {
   "cell_type": "code",
   "execution_count": 8,
   "id": "d6e9a764-43f1-422e-bdca-1251061729c0",
   "metadata": {},
   "outputs": [
    {
     "name": "stdout",
     "output_type": "stream",
     "text": [
      "5\n"
     ]
    }
   ],
   "source": [
    "print(addThreeNumber(1,1,3))"
   ]
  },
  {
   "cell_type": "markdown",
   "id": "c2a18c3b-d772-4fd5-913b-607866c44069",
   "metadata": {},
   "source": [
    "##### write a function to combine first, middle and last name together?"
   ]
  },
  {
   "cell_type": "code",
   "execution_count": 9,
   "id": "c1f9c7db-bd0e-49df-95b7-c34bed8e7d9b",
   "metadata": {},
   "outputs": [],
   "source": [
    "def combineName(a,b,c):\n",
    "    return a + ' ' + b[0] + ' ' + c"
   ]
  },
  {
   "cell_type": "code",
   "execution_count": 10,
   "id": "da15bedd-fdef-45a1-8882-53f3cf411275",
   "metadata": {},
   "outputs": [],
   "source": [
    "fullName = combineName('Mr.','Asad','Sazid')"
   ]
  },
  {
   "cell_type": "code",
   "execution_count": 11,
   "id": "9ebb99fd-aea9-46f9-835d-8409406197ce",
   "metadata": {},
   "outputs": [
    {
     "name": "stdout",
     "output_type": "stream",
     "text": [
      "Mr. A Sazid\n"
     ]
    }
   ],
   "source": [
    "print(fullName)"
   ]
  },
  {
   "cell_type": "code",
   "execution_count": null,
   "id": "b025b43a-8a65-47a6-87a9-b9c7555ecc71",
   "metadata": {},
   "outputs": [],
   "source": []
  },
  {
   "cell_type": "markdown",
   "id": "6d014506-ad62-4bbf-8301-feda1973a879",
   "metadata": {},
   "source": [
    "### LIST"
   ]
  },
  {
   "cell_type": "code",
   "execution_count": 12,
   "id": "f9b0a3c0-15c7-4ae8-8ad8-8c8541671491",
   "metadata": {},
   "outputs": [],
   "source": [
    "# list items must be inside big bracket i.e []\n",
    "# list is mutable\n",
    "# use .append to add new item in the existing list but we just can add one new item at a time\n",
    "# for example 1:-\n",
    "grocery_list = ['mango','apple','papaya']\n"
   ]
  },
  {
   "cell_type": "code",
   "execution_count": 13,
   "id": "7b6e9ca0-e1fe-4d28-b910-ad6dc8670920",
   "metadata": {},
   "outputs": [
    {
     "name": "stdout",
     "output_type": "stream",
     "text": [
      "['mango', 'apple', 'papaya']\n"
     ]
    }
   ],
   "source": [
    "print(grocery_list)"
   ]
  },
  {
   "cell_type": "code",
   "execution_count": 14,
   "id": "bf11e5da-a560-409c-8d8c-4295ffb40e4e",
   "metadata": {},
   "outputs": [],
   "source": [
    "grocery_list.append('banana')\n"
   ]
  },
  {
   "cell_type": "code",
   "execution_count": 15,
   "id": "72bde777-26de-4f36-8c7a-5d441f72f449",
   "metadata": {},
   "outputs": [],
   "source": [
    "grocery_list.remove('apple')"
   ]
  },
  {
   "cell_type": "code",
   "execution_count": 16,
   "id": "151556d0-5f87-4446-a259-7c2ae6794317",
   "metadata": {},
   "outputs": [
    {
     "data": {
      "text/plain": [
       "'banana'"
      ]
     },
     "execution_count": 16,
     "metadata": {},
     "output_type": "execute_result"
    }
   ],
   "source": [
    "grocery_list.pop(-1)"
   ]
  },
  {
   "cell_type": "code",
   "execution_count": 17,
   "id": "d3c0d2cd-c19d-4b68-9344-816cdc884d75",
   "metadata": {},
   "outputs": [],
   "source": [
    "grocery_list.clear()"
   ]
  },
  {
   "cell_type": "code",
   "execution_count": 18,
   "id": "2180ebb9-b9b0-4137-a88d-1c8a17d6bfa2",
   "metadata": {},
   "outputs": [
    {
     "name": "stdout",
     "output_type": "stream",
     "text": [
      "0\n"
     ]
    }
   ],
   "source": [
    "print(len(grocery_list))"
   ]
  },
  {
   "cell_type": "code",
   "execution_count": 19,
   "id": "ae7f90c1-5026-4fa7-8c71-886f7f3c75db",
   "metadata": {},
   "outputs": [],
   "source": [
    "# inserting item in particular location in a list\n",
    "grocery_list.insert(2, 'baba')"
   ]
  },
  {
   "cell_type": "code",
   "execution_count": null,
   "id": "624e6918-05cf-4d0a-a966-5be91dfbc8a1",
   "metadata": {},
   "outputs": [],
   "source": []
  },
  {
   "cell_type": "code",
   "execution_count": 20,
   "id": "b20c5e8c-beba-4520-ba92-79d3f652f0aa",
   "metadata": {},
   "outputs": [],
   "source": [
    "#example 2\n",
    "grades = [100,34,72,95,84,87,100,100]"
   ]
  },
  {
   "cell_type": "code",
   "execution_count": 21,
   "id": "5f2e1e76-2274-4fb7-9010-ab058a7d41dd",
   "metadata": {},
   "outputs": [
    {
     "name": "stdout",
     "output_type": "stream",
     "text": [
      "[100, 34, 72, 95, 84, 87, 100, 100]\n"
     ]
    }
   ],
   "source": [
    "print(grades)"
   ]
  },
  {
   "cell_type": "code",
   "execution_count": 22,
   "id": "482aa265-2f4c-46b3-981d-e6303c5d2054",
   "metadata": {},
   "outputs": [],
   "source": [
    "grades.sort()"
   ]
  },
  {
   "cell_type": "code",
   "execution_count": 23,
   "id": "10dea840-503f-4b6a-8eb4-d3fb19079f86",
   "metadata": {},
   "outputs": [],
   "source": [
    "grades.reverse()"
   ]
  },
  {
   "cell_type": "code",
   "execution_count": 24,
   "id": "e4b4eda8-d5ac-4ab7-9efc-bfbc49ece771",
   "metadata": {},
   "outputs": [
    {
     "data": {
      "text/plain": [
       "3"
      ]
     },
     "execution_count": 24,
     "metadata": {},
     "output_type": "execute_result"
    }
   ],
   "source": [
    "grades.count(100)"
   ]
  },
  {
   "cell_type": "markdown",
   "id": "36b8199a-641f-4a3f-80a5-c15343158f0a",
   "metadata": {},
   "source": [
    "##### write a function to find the name is avalable in the list of names?"
   ]
  },
  {
   "cell_type": "code",
   "execution_count": 25,
   "id": "1785f510-45c7-42d7-9fbc-8b025f56f3bb",
   "metadata": {},
   "outputs": [],
   "source": [
    "names = ['asad','aman','mazid','sazid','shantanu','kumar','suman','archit','singh']"
   ]
  },
  {
   "cell_type": "code",
   "execution_count": 26,
   "id": "ff9b9368-bc92-4d8a-a007-495ee496d617",
   "metadata": {},
   "outputs": [
    {
     "name": "stdout",
     "output_type": "stream",
     "text": [
      "['asad', 'aman', 'mazid', 'sazid', 'shantanu', 'kumar', 'suman', 'archit', 'singh']\n"
     ]
    }
   ],
   "source": [
    "print(names)"
   ]
  },
  {
   "cell_type": "code",
   "execution_count": 27,
   "id": "0938b673-7d98-4558-9539-34115b52fc07",
   "metadata": {},
   "outputs": [],
   "source": [
    "def find_name(name):\n",
    "    if name in names:\n",
    "        return True\n",
    "    else:\n",
    "        return False\n",
    "    \n",
    "        "
   ]
  },
  {
   "cell_type": "code",
   "execution_count": 28,
   "id": "fad86b3c-b868-49f0-a6e7-8c252012f3fc",
   "metadata": {},
   "outputs": [
    {
     "data": {
      "text/plain": [
       "False"
      ]
     },
     "execution_count": 28,
     "metadata": {},
     "output_type": "execute_result"
    }
   ],
   "source": [
    "find_name('khan')"
   ]
  },
  {
   "cell_type": "code",
   "execution_count": 29,
   "id": "f81b2d9d-60ae-4ef7-aa2f-eb94ce3cf8cc",
   "metadata": {},
   "outputs": [],
   "source": [
    "def find_name2(name, names):\n",
    "    if name in names:\n",
    "        return True\n",
    "    else:\n",
    "        return False\n",
    "    "
   ]
  },
  {
   "cell_type": "code",
   "execution_count": 30,
   "id": "b0f7845d-7489-4dd3-ba94-01d4cdd034fa",
   "metadata": {},
   "outputs": [
    {
     "data": {
      "text/plain": [
       "True"
      ]
     },
     "execution_count": 30,
     "metadata": {},
     "output_type": "execute_result"
    }
   ],
   "source": [
    "find_name2('asad',names)"
   ]
  },
  {
   "cell_type": "code",
   "execution_count": 31,
   "id": "25c21b18-c1c7-4428-930d-ce58c7b3874c",
   "metadata": {},
   "outputs": [],
   "source": [
    "def find_name3(name, names):\n",
    "    return(name in names)"
   ]
  },
  {
   "cell_type": "code",
   "execution_count": 32,
   "id": "4657e8cb-02b6-4eec-a976-b6c53f12d7da",
   "metadata": {},
   "outputs": [
    {
     "data": {
      "text/plain": [
       "True"
      ]
     },
     "execution_count": 32,
     "metadata": {},
     "output_type": "execute_result"
    }
   ],
   "source": [
    "find_name2('sazid',names)"
   ]
  },
  {
   "cell_type": "code",
   "execution_count": null,
   "id": "b820d71c-cf0b-4b47-a6c0-0b2f8f4180c4",
   "metadata": {},
   "outputs": [],
   "source": []
  },
  {
   "cell_type": "markdown",
   "id": "1a9c655b-fefb-45bf-ac4f-dfb021ca8249",
   "metadata": {},
   "source": [
    "### TUPLES"
   ]
  },
  {
   "cell_type": "code",
   "execution_count": 33,
   "id": "bc4443df-8255-48ca-9631-e4a6bf316d6f",
   "metadata": {},
   "outputs": [],
   "source": [
    "# tuples items must be inside small bracket i.e ()\n",
    "# list is immutable\n",
    "\n",
    "values = ()"
   ]
  },
  {
   "cell_type": "code",
   "execution_count": 34,
   "id": "59817dad-c341-46f6-8066-8d8755cd375c",
   "metadata": {},
   "outputs": [],
   "source": [
    "# taking an example of function to understand tuple\n",
    "\n",
    "def update(x,y,z):\n",
    "    x=x+5\n",
    "    y=y-3\n",
    "    z=z+10\n",
    "    return(x,y,z)\n",
    "    "
   ]
  },
  {
   "cell_type": "code",
   "execution_count": 35,
   "id": "2bcb571c-e8a8-4578-988f-7f116ca1d748",
   "metadata": {},
   "outputs": [
    {
     "data": {
      "text/plain": [
       "(15, -3, 10)"
      ]
     },
     "execution_count": 35,
     "metadata": {},
     "output_type": "execute_result"
    }
   ],
   "source": [
    "update(10,0,0)"
   ]
  },
  {
   "cell_type": "code",
   "execution_count": null,
   "id": "029c0bb7-75bf-417d-919c-ac051d86f006",
   "metadata": {},
   "outputs": [],
   "source": []
  },
  {
   "cell_type": "markdown",
   "id": "613c3ca3-c484-4111-ac16-0569c7c1be7a",
   "metadata": {},
   "source": [
    "### LOOPS"
   ]
  },
  {
   "cell_type": "code",
   "execution_count": null,
   "id": "1e71ff82-6a13-4a68-ae0c-78f93eb46720",
   "metadata": {},
   "outputs": [],
   "source": []
  },
  {
   "cell_type": "markdown",
   "id": "ff0040a4-be82-4a07-b44b-781a4686ccdd",
   "metadata": {},
   "source": [
    "#### For Loop"
   ]
  },
  {
   "cell_type": "code",
   "execution_count": 36,
   "id": "c54de608-6d69-4393-93aa-b53151ef9c13",
   "metadata": {},
   "outputs": [
    {
     "name": "stdout",
     "output_type": "stream",
     "text": [
      "0\n",
      "1\n",
      "2\n",
      "3\n",
      "4\n",
      "5\n",
      "6\n",
      "7\n",
      "8\n",
      "9\n"
     ]
    }
   ],
   "source": [
    "# simple for loop Syntex with example 1\n",
    "for i in range(10):\n",
    "    print (i)"
   ]
  },
  {
   "cell_type": "code",
   "execution_count": 37,
   "id": "c7c6e879-926a-4359-ab75-81844b46da10",
   "metadata": {},
   "outputs": [
    {
     "name": "stdout",
     "output_type": "stream",
     "text": [
      "1\n",
      "3\n",
      "5\n",
      "7\n",
      "9\n"
     ]
    }
   ],
   "source": [
    "#example 2 :- print odd no. between 0 t0 10\n",
    "\n",
    "for i in range(10):\n",
    "    if i%2 ==1:\n",
    "        print(i)\n",
    "    else:\n",
    "        pass\n"
   ]
  },
  {
   "cell_type": "code",
   "execution_count": 38,
   "id": "2e275621-034a-4d9c-b515-f158439efcf4",
   "metadata": {},
   "outputs": [],
   "source": [
    "# one of the important use of the for loop is to ittrate through list,\n",
    "#example 3 :-\n",
    "grocery_list = ['apple', 'banana', 'knife','cap']"
   ]
  },
  {
   "cell_type": "code",
   "execution_count": 39,
   "id": "c25aeb49-3ea5-43d0-b254-a01f20bf20cd",
   "metadata": {},
   "outputs": [
    {
     "name": "stdout",
     "output_type": "stream",
     "text": [
      "apple\n",
      "banana\n",
      "knife\n",
      "cap\n"
     ]
    }
   ],
   "source": [
    "for i in grocery_list:\n",
    "    print(i)"
   ]
  },
  {
   "cell_type": "code",
   "execution_count": 40,
   "id": "4bd78fdc-a8f0-4bba-9e6e-3bfcacd09b76",
   "metadata": {},
   "outputs": [],
   "source": [
    "# example 3:- find the avrage using fol loop\n",
    "weights = [208, 221, 195, 186, 139,149,203,301,393,191]"
   ]
  },
  {
   "cell_type": "code",
   "execution_count": 41,
   "id": "cad9c33a-0281-4d1d-93cd-d49baa0a4c77",
   "metadata": {},
   "outputs": [
    {
     "name": "stdout",
     "output_type": "stream",
     "text": [
      "218.6\n"
     ]
    }
   ],
   "source": [
    "total_weight = 0\n",
    "for weight in weights:\n",
    "    total_weight = total_weight + weight\n",
    "total_players = len(weights)\n",
    "\n",
    "avrage_weight = total_weight/total_players\n",
    "print(avrage_weight)"
   ]
  },
  {
   "cell_type": "code",
   "execution_count": null,
   "id": "ad14d313-6332-4357-9bba-2e07114739c0",
   "metadata": {},
   "outputs": [],
   "source": []
  },
  {
   "cell_type": "markdown",
   "id": "70ec0144-f78b-4dc3-b9a5-5cf63a007910",
   "metadata": {},
   "source": [
    "#### While loop"
   ]
  },
  {
   "cell_type": "code",
   "execution_count": 42,
   "id": "05786488-4d72-40df-8aa7-645d7a012d93",
   "metadata": {},
   "outputs": [
    {
     "name": "stdout",
     "output_type": "stream",
     "text": [
      "Hi\n",
      "Asad\n",
      "Hi\n",
      "Asad\n",
      "Hi\n",
      "Asad\n",
      "Hi\n",
      "Asad\n",
      "Hi\n",
      "Asad\n",
      "Hi\n",
      "Asad\n",
      "Hi\n",
      "Asad\n",
      "Hi\n",
      "Asad\n",
      "Hi\n",
      "Asad\n",
      "Hi\n",
      "Asad\n"
     ]
    }
   ],
   "source": [
    "# one of the important use of while loop is to use boolean\n",
    "# syntex with simple example 1:-\n",
    "i = 0\n",
    "while i in range(10):\n",
    "    print('Hi')\n",
    "    print('Asad')\n",
    "    i += 1\n",
    "    "
   ]
  },
  {
   "cell_type": "code",
   "execution_count": 43,
   "id": "4b2c70df-8975-44f3-a140-f17b446d6611",
   "metadata": {},
   "outputs": [
    {
     "name": "stdout",
     "output_type": "stream",
     "text": [
      "1\n",
      "2\n",
      "3\n",
      "4\n",
      "5\n",
      "6\n",
      "7\n",
      "8\n",
      "9\n",
      "10\n"
     ]
    }
   ],
   "source": [
    "\n",
    "# example 2:- print 1 to 10\n",
    "i = 1\n",
    "while i <= 10:\n",
    "    print(i)\n",
    "    i += 1\n"
   ]
  },
  {
   "cell_type": "code",
   "execution_count": 44,
   "id": "009e030b-f990-4fa8-8c5c-2794e257d119",
   "metadata": {},
   "outputs": [
    {
     "name": "stdout",
     "output_type": "stream",
     "text": [
      "4\n",
      "Play again\n",
      "5\n",
      "Play again\n",
      "11\n",
      "Play again\n",
      "20\n",
      "Play again\n",
      "23\n",
      "Play again\n",
      "25\n",
      "Play again\n",
      "27\n",
      "Play again\n",
      "28\n",
      "Play again\n",
      "34\n",
      "Play again\n",
      "37\n",
      "Play again\n",
      "42\n",
      "Play again\n",
      "51\n",
      "Play again\n",
      "56\n",
      "Play again\n",
      "65\n",
      "Play again\n",
      "68\n",
      "Play again\n",
      "77\n",
      "Play again\n",
      "79\n",
      "Play again\n",
      "82\n",
      "Play again\n",
      "84\n",
      "Play again\n",
      "93\n",
      "Play again\n",
      "103\n",
      "Play again\n"
     ]
    }
   ],
   "source": [
    "# example 3:-\n",
    "import random\n",
    "game_over = False\n",
    "score = 0\n",
    "\n",
    "while not game_over:\n",
    "    score += random.randint(1,10)\n",
    "    print(score)\n",
    "    \n",
    "    print('Play again')\n",
    "    if score >100:\n",
    "        game_over = True\n",
    "        break\n",
    "        print('Game Over!!!')\n",
    "    \n",
    "   "
   ]
  },
  {
   "cell_type": "code",
   "execution_count": null,
   "id": "65ec6311-9458-4f29-aeba-ee25980be285",
   "metadata": {},
   "outputs": [],
   "source": []
  },
  {
   "cell_type": "markdown",
   "id": "5404818e-4a79-4fee-8971-230899aed05b",
   "metadata": {},
   "source": [
    "### CLASSES"
   ]
  },
  {
   "cell_type": "code",
   "execution_count": 45,
   "id": "ba6c411b-723f-4d6c-9e23-0ed5e791be72",
   "metadata": {},
   "outputs": [],
   "source": [
    "# use os classes :- safe from bugs, easy to understand, ready for change\n",
    "# syntex with simple example 1:-\n",
    "class Polygon:\n",
    "    def __init__(self, sides, name):\n",
    "            self.sides = sides\n",
    "            self.name = name\n",
    "\n",
    "square = Polygon(4, 'square')\n",
    "pentagon = Polygon(5,'pentagon')\n",
    "\n",
    "    \n",
    "    \n",
    "        "
   ]
  },
  {
   "cell_type": "code",
   "execution_count": 46,
   "id": "0e971e27-e7d3-4408-a4fd-139b53928882",
   "metadata": {},
   "outputs": [
    {
     "name": "stdout",
     "output_type": "stream",
     "text": [
      "4\n",
      "square\n",
      "5\n",
      "pentagon\n"
     ]
    }
   ],
   "source": [
    "print(square.sides)\n",
    "print(square.name)\n",
    "print(pentagon.sides)\n",
    "print(pentagon.name)"
   ]
  },
  {
   "cell_type": "code",
   "execution_count": null,
   "id": "9cb02342-355b-483f-b950-10974140e6c6",
   "metadata": {},
   "outputs": [],
   "source": []
  },
  {
   "cell_type": "markdown",
   "id": "7067f0c1-e918-483e-a007-5c32c75ef43b",
   "metadata": {},
   "source": [
    " ### Practice "
   ]
  },
  {
   "cell_type": "code",
   "execution_count": 47,
   "id": "618c178f-d06a-4545-82d7-1522153b9de3",
   "metadata": {},
   "outputs": [],
   "source": [
    "def parrot_trouble(talking, hour):\n",
    "  return (talking and (hour < 7 or hour > 20))\n"
   ]
  },
  {
   "cell_type": "code",
   "execution_count": 48,
   "id": "f60fdf9d-20db-44f1-b97b-ba721f6c8ca7",
   "metadata": {},
   "outputs": [
    {
     "data": {
      "text/plain": [
       "False"
      ]
     },
     "execution_count": 48,
     "metadata": {},
     "output_type": "execute_result"
    }
   ],
   "source": [
    "parrot_trouble(True, 7.000001)"
   ]
  },
  {
   "cell_type": "code",
   "execution_count": 49,
   "id": "7785738e-0236-4bef-853e-2467a16e1b8a",
   "metadata": {},
   "outputs": [],
   "source": [
    "def near_hundred(n):\n",
    "  return((90 < n > 110) or (190 < n > 210))"
   ]
  },
  {
   "cell_type": "code",
   "execution_count": null,
   "id": "da575db5-87c5-423e-826f-36c2fa7c6272",
   "metadata": {},
   "outputs": [],
   "source": []
  },
  {
   "cell_type": "code",
   "execution_count": 50,
   "id": "e88ee719-e837-41dc-af9b-b3010b2c843e",
   "metadata": {},
   "outputs": [],
   "source": [
    "def pos_neg(a, b, negative):\n",
    "  if negative:\n",
    "    return (a<0 and b< 0)\n",
    "  else:\n",
    "    return ((a<0 and b>0) or (a>0 and b<0))\n"
   ]
  },
  {
   "cell_type": "code",
   "execution_count": 51,
   "id": "e712ca8d-cfc4-45c0-94eb-39169dcd3abf",
   "metadata": {},
   "outputs": [
    {
     "data": {
      "text/plain": [
       "False"
      ]
     },
     "execution_count": 51,
     "metadata": {},
     "output_type": "execute_result"
    }
   ],
   "source": [
    "pos_neg(-1, 2, True)"
   ]
  },
  {
   "cell_type": "code",
   "execution_count": null,
   "id": "d2931a1d-95c6-4511-b322-cc75cbf73939",
   "metadata": {},
   "outputs": [],
   "source": []
  },
  {
   "cell_type": "code",
   "execution_count": 52,
   "id": "2219c08c-21f6-4f75-a530-fe75f696a3ed",
   "metadata": {},
   "outputs": [],
   "source": [
    "def not_string(str):\n",
    "  if str[0:2] == 'not':\n",
    "    return('not ' + str)\n",
    "  else:\n",
    "    return(str)"
   ]
  },
  {
   "cell_type": "code",
   "execution_count": 53,
   "id": "13ae5880-72bb-4665-a46f-00c67a5e88d6",
   "metadata": {},
   "outputs": [
    {
     "data": {
      "text/plain": [
       "'not asad'"
      ]
     },
     "execution_count": 53,
     "metadata": {},
     "output_type": "execute_result"
    }
   ],
   "source": [
    "not_string('not asad')"
   ]
  },
  {
   "cell_type": "code",
   "execution_count": 54,
   "id": "a7dd3d12-5d27-47e3-a3a6-7142a63c1400",
   "metadata": {},
   "outputs": [],
   "source": [
    "\n",
    "#Given a non-empty string and an int n, return a new string where the char at index n has been removed. The value of n will be a valid index of a char in the original string (i.e. n will be in the range 0..len(str)-1 inclusive).\n",
    "\n"
   ]
  },
  {
   "cell_type": "code",
   "execution_count": 55,
   "id": "e7c6a12d-841a-4706-8883-e9d3c315b7e6",
   "metadata": {},
   "outputs": [],
   "source": [
    "def missing_char(str, n):\n",
    "    firstPart = str[0:n]\n",
    "    secondPart = str[n+1:]\n",
    "    return(firstPart+secondPart)\n",
    " \n",
    "  \n",
    "\n"
   ]
  },
  {
   "cell_type": "code",
   "execution_count": 56,
   "id": "4025e520-17d0-42ec-b124-042eb88fdc9d",
   "metadata": {},
   "outputs": [
    {
     "data": {
      "text/plain": [
       "'asd'"
      ]
     },
     "execution_count": 56,
     "metadata": {},
     "output_type": "execute_result"
    }
   ],
   "source": [
    "missing_char('asad',2)"
   ]
  },
  {
   "cell_type": "code",
   "execution_count": null,
   "id": "a3d3ab80-9f29-4993-a0b9-cfb5b8de60be",
   "metadata": {},
   "outputs": [],
   "source": []
  },
  {
   "cell_type": "code",
   "execution_count": 57,
   "id": "ac5e0dcb-fb8f-4ad6-adba-de7b0dacfb50",
   "metadata": {},
   "outputs": [],
   "source": [
    "def front_back(str):\n",
    "    return (str[-1]+str[1:-1]+str[0])"
   ]
  },
  {
   "cell_type": "code",
   "execution_count": 58,
   "id": "4e763444-3bed-4aa9-a808-b2e8a159e326",
   "metadata": {},
   "outputs": [
    {
     "data": {
      "text/plain": [
       "'dsaa'"
      ]
     },
     "execution_count": 58,
     "metadata": {},
     "output_type": "execute_result"
    }
   ],
   "source": [
    "front_back('asad')"
   ]
  },
  {
   "cell_type": "code",
   "execution_count": 59,
   "id": "9c5a50a1-5fd4-4fd1-b95a-b91de8f3e3c2",
   "metadata": {},
   "outputs": [],
   "source": [
    "def front_back(str):\n",
    "  return (str[-1]+str[1:-1]+str[0])\n",
    "\n",
    "  \n",
    "   #first_char = str[0]\n",
    "   #last_char = str[-1] \n",
    "   #str[0] = last_char\n",
    "   #str[-1] = first_char\n",
    "   #return(str)\n",
    "  \n",
    "#def front_back(str):\n",
    "  #if len(str) <= 1:\n",
    "  #  return str\n",
    "  #\n",
    "  #mid = str[1:len(str)-1]  # can be written as str[1:-1]\n",
    "  #\n",
    "  ## last + mid + first\n",
    "  #return str[len(str)-1] + mid + str[0]"
   ]
  },
  {
   "cell_type": "code",
   "execution_count": null,
   "id": "7c4e74e4-a283-4b94-b658-ad5925058ea1",
   "metadata": {},
   "outputs": [],
   "source": []
  },
  {
   "cell_type": "code",
   "execution_count": 60,
   "id": "868cffcd-d223-4d73-9653-dea38f2d81b7",
   "metadata": {},
   "outputs": [],
   "source": [
    "# Given an array of ints, return True if the sequence of numbers 1, 2, 3 appears in the array somewhere.?\n",
    "\n"
   ]
  },
  {
   "cell_type": "code",
   "execution_count": 61,
   "id": "4cc4e61c-dcfd-44ac-bd3d-cd74733ad3da",
   "metadata": {},
   "outputs": [],
   "source": [
    "\n",
    "def array123(nums):\n",
    "    for i in range(len(nums)-2):\n",
    "        firstValue = nums[i]\n",
    "        secondValue = nums[i+1]\n",
    "        thirdValue = nums[i+2]\n",
    "        \n",
    "        if firstValue == 1 and secondValue == 2 and thirdValue == 3:\n",
    "            return True\n",
    "        \n",
    "    return False\n",
    "    \n",
    "     "
   ]
  },
  {
   "cell_type": "code",
   "execution_count": 62,
   "id": "fd6140e8-e697-4a48-8e64-a35cd83a1bd0",
   "metadata": {},
   "outputs": [
    {
     "data": {
      "text/plain": [
       "True"
      ]
     },
     "execution_count": 62,
     "metadata": {},
     "output_type": "execute_result"
    }
   ],
   "source": [
    "array123([1,3,1,2,1,2,2,1,2,2,2,1,2,3])"
   ]
  },
  {
   "cell_type": "code",
   "execution_count": 63,
   "id": "f2158537-70d7-4719-9912-10bef02eb2b7",
   "metadata": {},
   "outputs": [],
   "source": [
    "# removing duplicate from a list\n",
    "\n",
    "l1 = [20,30,40,50,60,80,60,70,40]"
   ]
  },
  {
   "cell_type": "code",
   "execution_count": 64,
   "id": "d5c18e38-0011-4714-8667-c49b4d60f2a9",
   "metadata": {},
   "outputs": [
    {
     "name": "stdout",
     "output_type": "stream",
     "text": [
      "[20, 30, 40, 50, 60, 80, 60, 70, 40]\n"
     ]
    }
   ],
   "source": [
    "print(l1)"
   ]
  },
  {
   "cell_type": "code",
   "execution_count": 65,
   "id": "92185b3c-4e80-4a19-80d3-07e041d64e19",
   "metadata": {},
   "outputs": [],
   "source": [
    "l2 = []\n",
    "\n",
    "l1.sort()\n",
    "for i in l1:\n",
    "    if i not in l2:\n",
    "        l2.append(i)"
   ]
  },
  {
   "cell_type": "code",
   "execution_count": 66,
   "id": "8d809d33-9a15-478e-88ae-2ee2758ee761",
   "metadata": {},
   "outputs": [
    {
     "name": "stdout",
     "output_type": "stream",
     "text": [
      "[20, 30, 40, 50, 60, 70, 80]\n"
     ]
    }
   ],
   "source": [
    "print(l2)"
   ]
  },
  {
   "cell_type": "markdown",
   "id": "25fef94a-8bab-462c-adc4-28ab6d1c4fed",
   "metadata": {},
   "source": []
  },
  {
   "cell_type": "markdown",
   "id": "ebda11f3-a832-40ad-83ec-28b392cc6e75",
   "metadata": {},
   "source": [
    "Given a string and a non-negative int n, return a larger string that is n copies of the original string?"
   ]
  },
  {
   "cell_type": "code",
   "execution_count": 67,
   "id": "eb8c57fc-01df-4a2a-b6b8-9d37dbcd9605",
   "metadata": {},
   "outputs": [],
   "source": [
    "# using for loop\n",
    "def string_times(str, n):\n",
    "  res = ''\n",
    "  for i in range(n):\n",
    "    res = res+str\n",
    "  return res"
   ]
  },
  {
   "cell_type": "code",
   "execution_count": 68,
   "id": "f5b40041-5bd6-4916-b7d3-11405b5205dd",
   "metadata": {},
   "outputs": [
    {
     "data": {
      "text/plain": [
       "'sidsidsidsidsid'"
      ]
     },
     "execution_count": 68,
     "metadata": {},
     "output_type": "execute_result"
    }
   ],
   "source": [
    "string_times('sid', 5)"
   ]
  },
  {
   "cell_type": "code",
   "execution_count": 69,
   "id": "96888231-bfa8-4a3d-be23-20b2a22e07a2",
   "metadata": {},
   "outputs": [],
   "source": [
    "# using while loop\n",
    "def string_times(str, n):\n",
    "    i = 0\n",
    "    output = ''\n",
    "    while i < n:\n",
    "        output = output+str\n",
    "        i = i+1 \n",
    "    return output\n",
    "    "
   ]
  },
  {
   "cell_type": "code",
   "execution_count": 70,
   "id": "4811d1ee-f3b2-4c20-b634-b42f50164a5d",
   "metadata": {},
   "outputs": [
    {
     "data": {
      "text/plain": [
       "'asad asad asad asad asad asad asad asad asad asad '"
      ]
     },
     "execution_count": 70,
     "metadata": {},
     "output_type": "execute_result"
    }
   ],
   "source": [
    "string_times('asad ', 10)"
   ]
  },
  {
   "cell_type": "markdown",
   "id": "e6ebd04e-8f4d-4309-a50c-5b425063d381",
   "metadata": {},
   "source": [
    "Given a string and a non-negative int n, we'll say that the front of the string is the first 3 chars, or whatever is there if the string is less than length 3. Return n copies of the front?\n",
    "\n"
   ]
  },
  {
   "cell_type": "code",
   "execution_count": 87,
   "id": "9d5d548c-466e-40ab-9b74-c19d1136821f",
   "metadata": {},
   "outputs": [],
   "source": [
    "def front_times(str, n):\n",
    "  x = str[0:3]\n",
    "  y = ''\n",
    "  for i in range(n):\n",
    "    y += x\n",
    "  return y\n"
   ]
  },
  {
   "cell_type": "code",
   "execution_count": 88,
   "id": "da282c21-ca4e-4483-8f99-0374477c7f4f",
   "metadata": {},
   "outputs": [
    {
     "data": {
      "text/plain": [
       "'sazsazsaz'"
      ]
     },
     "execution_count": 88,
     "metadata": {},
     "output_type": "execute_result"
    }
   ],
   "source": [
    "front_times('sazid', 3)"
   ]
  },
  {
   "cell_type": "markdown",
   "id": "ec4606d1-aab9-4e41-a372-a746aa65b300",
   "metadata": {},
   "source": [
    "Given a string, return a new string made of every other char starting with the first, so \"Hello\" yields \"Hlo\"?\n",
    "\n"
   ]
  },
  {
   "cell_type": "code",
   "execution_count": 89,
   "id": "c8567097-d330-4a32-bc68-055f1cac8252",
   "metadata": {},
   "outputs": [],
   "source": [
    "def string_bits(str):\n",
    "  x = str[::2]\n",
    "  return x"
   ]
  },
  {
   "cell_type": "code",
   "execution_count": 90,
   "id": "3391906e-65a6-477c-ba92-3f722ccc1774",
   "metadata": {},
   "outputs": [
    {
     "data": {
      "text/plain": [
       "'asadsazid'"
      ]
     },
     "execution_count": 90,
     "metadata": {},
     "output_type": "execute_result"
    }
   ],
   "source": [
    "string_bits('aosfakdjsdazzcigd')"
   ]
  },
  {
   "cell_type": "code",
   "execution_count": null,
   "id": "18dbef83-d5c6-4246-8f72-e51252b04929",
   "metadata": {},
   "outputs": [],
   "source": []
  },
  {
   "cell_type": "code",
   "execution_count": null,
   "id": "a939e5d0-97aa-4e43-9d33-3b44094e4614",
   "metadata": {},
   "outputs": [],
   "source": []
  },
  {
   "cell_type": "code",
   "execution_count": null,
   "id": "1893e691-bef3-4b98-8a53-1cf69749cd46",
   "metadata": {},
   "outputs": [],
   "source": []
  },
  {
   "cell_type": "code",
   "execution_count": null,
   "id": "185d5a69-2572-45e2-8f20-989badbc5616",
   "metadata": {},
   "outputs": [],
   "source": []
  },
  {
   "cell_type": "code",
   "execution_count": null,
   "id": "e3d98d26-7a8a-4348-8a11-db5eee981d0a",
   "metadata": {},
   "outputs": [],
   "source": []
  },
  {
   "cell_type": "code",
   "execution_count": null,
   "id": "94b0e698-ebbf-4753-b191-e0088c0f4d25",
   "metadata": {},
   "outputs": [],
   "source": []
  }
 ],
 "metadata": {
  "kernelspec": {
   "display_name": "Python 3 (ipykernel)",
   "language": "python",
   "name": "python3"
  },
  "language_info": {
   "codemirror_mode": {
    "name": "ipython",
    "version": 3
   },
   "file_extension": ".py",
   "mimetype": "text/x-python",
   "name": "python",
   "nbconvert_exporter": "python",
   "pygments_lexer": "ipython3",
   "version": "3.10.2"
  }
 },
 "nbformat": 4,
 "nbformat_minor": 5
}
